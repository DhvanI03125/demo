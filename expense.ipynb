{
 "cells": [
  {
   "cell_type": "code",
   "execution_count": 1,
   "id": "fd2ed62d-c4a2-45ec-8c1c-7e0c0cedabb1",
   "metadata": {},
   "outputs": [],
   "source": [
    "from budget_optimization.record import ExpenseTracker\n",
    "\n",
    "tracker = ExpenseTracker()\n"
   ]
  },
  {
   "cell_type": "code",
   "execution_count": 2,
   "id": "65453063-daf1-40ee-aefb-add1b963678f",
   "metadata": {},
   "outputs": [],
   "source": [
    "tracker = ExpenseTracker()\n"
   ]
  },
  {
   "cell_type": "code",
   "execution_count": 3,
   "id": "b0c0e9f9-4920-4094-8c44-11aa4895dbbd",
   "metadata": {},
   "outputs": [
    {
     "name": "stdout",
     "output_type": "stream",
     "text": [
      "[+] Added to 'software': {'amount': 1200, 'note': 'Adobe license', 'date': '2025-04-08'}\n",
      "[+] Added to 'software': {'amount': 800, 'note': 'VS Code premium', 'date': '2025-04-08'}\n",
      "[+] Added to 'marketing': {'amount': 5000, 'note': 'Instagram ads', 'date': '2025-04-08'}\n"
     ]
    }
   ],
   "source": [
    "print(tracker.add_expense(\"software\", 1200, \"Adobe license\"))\n",
    "print(tracker.add_expense(\"software\", 800, \"VS Code premium\"))\n",
    "print(tracker.add_expense(\"marketing\", 5000, \"Instagram ads\"))\n"
   ]
  },
  {
   "cell_type": "code",
   "execution_count": 4,
   "id": "0162b166-2f68-4369-821f-aebbd4892f13",
   "metadata": {},
   "outputs": [
    {
     "name": "stdout",
     "output_type": "stream",
     "text": [
      "Software Expenses: [{'amount': 1200, 'note': 'Adobe license', 'date': '2025-04-08'}, {'amount': 800, 'note': 'VS Code premium', 'date': '2025-04-08'}]\n"
     ]
    }
   ],
   "source": [
    "print(\"Software Expenses:\", tracker.show_expenses(\"software\"))\n"
   ]
  },
  {
   "cell_type": "code",
   "execution_count": 5,
   "id": "3ea3fe2b-aa1e-496a-be8d-f2d2104674d9",
   "metadata": {},
   "outputs": [
    {
     "name": "stdout",
     "output_type": "stream",
     "text": [
      "[~] Updated expense at index 1 in 'software'.\n"
     ]
    }
   ],
   "source": [
    "print(tracker.update_expense(\"software\", 1, new_amount=900, new_note=\"VS Code annual license\"))\n"
   ]
  },
  {
   "cell_type": "code",
   "execution_count": 6,
   "id": "11d96716-3eee-437d-aed7-60fe10ad840f",
   "metadata": {},
   "outputs": [
    {
     "name": "stdout",
     "output_type": "stream",
     "text": [
      "Expense at index 1 in 'software': {'amount': 900, 'note': 'VS Code annual license', 'date': '2025-04-08'}\n"
     ]
    }
   ],
   "source": [
    "print(\"Expense at index 1 in 'software':\", tracker.get_expense_by_id(\"software\", 1))\n"
   ]
  },
  {
   "cell_type": "code",
   "execution_count": 7,
   "id": "294f7560-5de6-40eb-876b-178da685d9e0",
   "metadata": {},
   "outputs": [
    {
     "name": "stdout",
     "output_type": "stream",
     "text": [
      "[-] Removed from 'software': {'amount': 1200, 'note': 'Adobe license', 'date': '2025-04-08'}\n"
     ]
    }
   ],
   "source": [
    "print(tracker.remove_expense(\"software\", 0))\n"
   ]
  },
  {
   "cell_type": "code",
   "execution_count": 8,
   "id": "f07b2aaf-23ea-4807-b069-df28d30eb5e6",
   "metadata": {},
   "outputs": [
    {
     "name": "stdout",
     "output_type": "stream",
     "text": [
      "Updated Software Expenses: [{'amount': 900, 'note': 'VS Code annual license', 'date': '2025-04-08'}]\n"
     ]
    }
   ],
   "source": [
    "print(\"Updated Software Expenses:\", tracker.get_expenses_by_category(\"software\"))\n"
   ]
  },
  {
   "cell_type": "code",
   "execution_count": 9,
   "id": "685e04a3-6beb-4099-be20-d1e77bbd10bf",
   "metadata": {},
   "outputs": [
    {
     "name": "stdout",
     "output_type": "stream",
     "text": [
      "Total marketing cost: 5000\n"
     ]
    }
   ],
   "source": [
    "print(\"Total marketing cost:\", tracker.total(\"marketing\"))\n"
   ]
  },
  {
   "cell_type": "code",
   "execution_count": 10,
   "id": "71396650-03f6-4f08-8784-62965cd1f65f",
   "metadata": {},
   "outputs": [
    {
     "name": "stdout",
     "output_type": "stream",
     "text": [
      "Categories: ['software', 'marketing']\n"
     ]
    }
   ],
   "source": [
    "print(\"Categories:\", tracker.list_categories())\n"
   ]
  },
  {
   "cell_type": "code",
   "execution_count": 11,
   "id": "14d6bc80-ba40-46ba-ae87-469dfa9c0777",
   "metadata": {},
   "outputs": [
    {
     "name": "stdout",
     "output_type": "stream",
     "text": [
      "Today is: 2025-04-08\n"
     ]
    }
   ],
   "source": [
    "print(\"Today is:\", tracker.get_today())\n"
   ]
  },
  {
   "cell_type": "code",
   "execution_count": 13,
   "id": "c0e90a99-e489-4a8d-a930-a34226360a70",
   "metadata": {},
   "outputs": [
    {
     "name": "stdout",
     "output_type": "stream",
     "text": [
      "Grouped by month (marketing): {'2025-04': [{'amount': 5000, 'note': 'Instagram ads', 'date': '2025-04-08'}]}\n"
     ]
    }
   ],
   "source": [
    "print(\"Grouped by month (marketing):\", tracker.group_by_month(\"marketing\"))\n"
   ]
  },
  {
   "cell_type": "code",
   "execution_count": null,
   "id": "e70b9097-b1cb-4391-8259-8aa23e606edf",
   "metadata": {},
   "outputs": [],
   "source": []
  }
 ],
 "metadata": {
  "kernelspec": {
   "display_name": "Python 3 (ipykernel)",
   "language": "python",
   "name": "python3"
  },
  "language_info": {
   "codemirror_mode": {
    "name": "ipython",
    "version": 3
   },
   "file_extension": ".py",
   "mimetype": "text/x-python",
   "name": "python",
   "nbconvert_exporter": "python",
   "pygments_lexer": "ipython3",
   "version": "3.13.1"
  }
 },
 "nbformat": 4,
 "nbformat_minor": 5
}

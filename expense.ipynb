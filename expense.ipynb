{
 "cells": [
  {
   "cell_type": "code",
   "execution_count": 1,
   "id": "fd2ed62d-c4a2-45ec-8c1c-7e0c0cedabb1",
   "metadata": {},
   "outputs": [],
   "source": [
    "from budget_optimization.record import ExpenseTracker\n",
    "\n",
    "tracker = ExpenseTracker()\n"
   ]
  },
  {
   "cell_type": "code",
   "execution_count": 2,
   "id": "65453063-daf1-40ee-aefb-add1b963678f",
   "metadata": {},
   "outputs": [],
   "source": [
    "tracker = ExpenseTracker()\n"
   ]
  },
  {
   "cell_type": "code",
   "execution_count": 3,
   "id": "b0c0e9f9-4920-4094-8c44-11aa4895dbbd",
   "metadata": {},
   "outputs": [
    {
     "name": "stdout",
     "output_type": "stream",
     "text": [
      "[+] Added to 'software': {'amount': 1200, 'note': 'Adobe license', 'date': '2025-04-08'}\n",
      "[+] Added to 'software': {'amount': 800, 'note': 'VS Code premium', 'date': '2025-04-08'}\n",
      "[+] Added to 'marketing': {'amount': 5000, 'note': 'Instagram ads', 'date': '2025-04-08'}\n"
     ]
    }
   ],
   "source": [
    "print(tracker.add_expense(\"software\", 1200, \"Adobe license\"))\n",
    "print(tracker.add_expense(\"software\", 800, \"VS Code premium\"))\n",
    "print(tracker.add_expense(\"marketing\", 5000, \"Instagram ads\"))\n"
   ]
  },
  {
   "cell_type": "code",
   "execution_count": 4,
   "id": "0162b166-2f68-4369-821f-aebbd4892f13",
   "metadata": {},
   "outputs": [
    {
     "name": "stdout",
     "output_type": "stream",
     "text": [
      "Software Expenses: [{'amount': 1200, 'note': 'Adobe license', 'date': '2025-04-08'}, {'amount': 800, 'note': 'VS Code premium', 'date': '2025-04-08'}]\n"
     ]
    }
   ],
   "source": [
    "print(\"Software Expenses:\", tracker.show_expenses(\"software\"))\n"
   ]
  },
  {
   "cell_type": "code",
   "execution_count": 5,
   "id": "3ea3fe2b-aa1e-496a-be8d-f2d2104674d9",
   "metadata": {},
   "outputs": [
    {
     "name": "stdout",
     "output_type": "stream",
     "text": [
      "[~] Updated expense at index 1 in 'software'.\n"
     ]
    }
   ],
   "source": [
    "print(tracker.update_expense(\"software\", 1, new_amount=900, new_note=\"VS Code annual license\"))\n"
   ]
  },
  {
   "cell_type": "code",
   "execution_count": 6,
   "id": "11d96716-3eee-437d-aed7-60fe10ad840f",
   "metadata": {},
   "outputs": [
    {
     "name": "stdout",
     "output_type": "stream",
     "text": [
      "Expense at index 1 in 'software': {'amount': 900, 'note': 'VS Code annual license', 'date': '2025-04-08'}\n"
     ]
    }
   ],
   "source": [
    "print(\"Expense at index 1 in 'software':\", tracker.get_expense_by_id(\"software\", 1))\n"
   ]
  },
  {
   "cell_type": "code",
   "execution_count": 7,
   "id": "294f7560-5de6-40eb-876b-178da685d9e0",
   "metadata": {},
   "outputs": [
    {
     "name": "stdout",
     "output_type": "stream",
     "text": [
      "[-] Removed from 'software': {'amount': 1200, 'note': 'Adobe license', 'date': '2025-04-08'}\n"
     ]
    }
   ],
   "source": [
    "print(tracker.remove_expense(\"software\", 0))\n"
   ]
  },
  {
   "cell_type": "code",
   "execution_count": 8,
   "id": "f07b2aaf-23ea-4807-b069-df28d30eb5e6",
   "metadata": {},
   "outputs": [
    {
     "name": "stdout",
     "output_type": "stream",
     "text": [
      "Updated Software Expenses: [{'amount': 900, 'note': 'VS Code annual license', 'date': '2025-04-08'}]\n"
     ]
    }
   ],
   "source": [
    "print(\"Updated Software Expenses:\", tracker.get_expenses_by_category(\"software\"))\n"
   ]
  },
  {
   "cell_type": "code",
   "execution_count": 9,
   "id": "685e04a3-6beb-4099-be20-d1e77bbd10bf",
   "metadata": {},
   "outputs": [
    {
     "name": "stdout",
     "output_type": "stream",
     "text": [
      "Total marketing cost: 5000\n"
     ]
    }
   ],
   "source": [
    "print(\"Total marketing cost:\", tracker.total(\"marketing\"))\n"
   ]
  },
  {
   "cell_type": "code",
   "execution_count": 10,
   "id": "71396650-03f6-4f08-8784-62965cd1f65f",
   "metadata": {},
   "outputs": [
    {
     "name": "stdout",
     "output_type": "stream",
     "text": [
      "Categories: ['software', 'marketing']\n"
     ]
    }
   ],
   "source": [
    "print(\"Categories:\", tracker.list_categories())\n"
   ]
  },
  {
   "cell_type": "code",
   "execution_count": 11,
   "id": "14d6bc80-ba40-46ba-ae87-469dfa9c0777",
   "metadata": {},
   "outputs": [
    {
     "name": "stdout",
     "output_type": "stream",
     "text": [
      "Today is: 2025-04-08\n"
     ]
    }
   ],
   "source": [
    "print(\"Today is:\", tracker.get_today())\n"
   ]
  },
  {
   "cell_type": "code",
   "execution_count": 13,
   "id": "c0e90a99-e489-4a8d-a930-a34226360a70",
   "metadata": {},
   "outputs": [
    {
     "name": "stdout",
     "output_type": "stream",
     "text": [
      "Grouped by month (marketing): {'2025-04': [{'amount': 5000, 'note': 'Instagram ads', 'date': '2025-04-08'}]}\n"
     ]
    }
   ],
   "source": [
    "print(\"Grouped by month (marketing):\", tracker.group_by_month(\"marketing\"))\n"
   ]
  },
  {
   "cell_type": "code",
   "execution_count": 4,
   "id": "b44bc715-5a5f-4849-b603-45f61b43ef48",
   "metadata": {},
   "outputs": [],
   "source": [
    "from  budget_optimization.BudgetList import BudgetList\n",
    "from pprint import pprint\n",
    "\n",
    "bl = BudgetList()\n"
   ]
  },
  {
   "cell_type": "code",
   "execution_count": 5,
   "id": "16b30cbc-77e1-41c4-b6c5-0ae0a54be850",
   "metadata": {},
   "outputs": [
    {
     "name": "stdout",
     "output_type": "stream",
     "text": [
      "📌 Step 1: Added Expense\n",
      "{'IT Ops': {'budget': 300000,\n",
      "            'expenses': [{'amount': 45000, 'category': 'Cloud', 'desc': 'AWS'},\n",
      "                         {'amount': 25000,\n",
      "                          'category': 'Cloud',\n",
      "                          'desc': 'Azure'},\n",
      "                         {'amount': 15000,\n",
      "                          'category': 'Cloud',\n",
      "                          'desc': 'github'},\n",
      "                         {'amount': 55000,\n",
      "                          'category': 'Cloud',\n",
      "                          'desc': 'bitbucket'}]}}\n"
     ]
    }
   ],
   "source": [
    "# Step 1: Add an expense\n",
    "bl.add_expense(\"IT Ops\", 300000, 45000, \"Cloud\", \"AWS\")\n",
    "bl.add_expense(\"IT Ops\", 300000, 25000, \"Cloud\", \"Azure\")\n",
    "bl.add_expense(\"IT Ops\", 300000, 15000, \"Cloud\", \"github\")\n",
    "bl.add_expense(\"IT Ops\", 300000, 55000, \"Cloud\", \"bitbucket\")\n",
    "\n",
    "print(\"📌 Step 1: Added Expense\")\n",
    "pprint(bl.departments)\n"
   ]
  },
  {
   "cell_type": "code",
   "execution_count": 6,
   "id": "7c403d41-6e9e-44ae-9583-a97f5457f9b0",
   "metadata": {},
   "outputs": [
    {
     "name": "stdout",
     "output_type": "stream",
     "text": [
      "📊 Step 2: All Departments\n",
      "{'IT Ops': {'budget': 300000,\n",
      "            'expenses': [{'amount': 45000, 'category': 'Cloud', 'desc': 'AWS'},\n",
      "                         {'amount': 25000,\n",
      "                          'category': 'Cloud',\n",
      "                          'desc': 'Azure'},\n",
      "                         {'amount': 15000,\n",
      "                          'category': 'Cloud',\n",
      "                          'desc': 'github'},\n",
      "                         {'amount': 55000,\n",
      "                          'category': 'Cloud',\n",
      "                          'desc': 'bitbucket'}]}}\n"
     ]
    }
   ],
   "source": [
    "# Step 2: Print all department data\n",
    "print(\"📊 Step 2: All Departments\")\n",
    "pprint(bl.departments)\n"
   ]
  },
  {
   "cell_type": "code",
   "execution_count": 7,
   "id": "da6fa69e-b7ad-4c7e-bc19-776a0363c828",
   "metadata": {},
   "outputs": [
    {
     "name": "stdout",
     "output_type": "stream",
     "text": [
      "💸 Step 3: Total Expense\n",
      "₹140000\n"
     ]
    }
   ],
   "source": [
    "# Step 3: Get total expense\n",
    "print(\"💸 Step 3: Total Expense\")\n",
    "print(f\"₹{bl.get_total_expense('IT Ops')}\")\n"
   ]
  },
  {
   "cell_type": "code",
   "execution_count": 8,
   "id": "dc35a44d-dafb-4d59-b634-5cda89b21ec7",
   "metadata": {},
   "outputs": [
    {
     "name": "stdout",
     "output_type": "stream",
     "text": [
      "📂 Step 4: Cloud Expenses\n",
      "[{'amount': 45000, 'category': 'Cloud', 'desc': 'AWS'},\n",
      " {'amount': 25000, 'category': 'Cloud', 'desc': 'Azure'},\n",
      " {'amount': 15000, 'category': 'Cloud', 'desc': 'github'},\n",
      " {'amount': 55000, 'category': 'Cloud', 'desc': 'bitbucket'}]\n"
     ]
    }
   ],
   "source": [
    "# Step 4: Get expense by category\n",
    "print(\"📂 Step 4: Cloud Expenses\")\n",
    "pprint(bl.get_expense_by_category(\"IT Ops\", \"Cloud\"))\n"
   ]
  },
  {
   "cell_type": "code",
   "execution_count": 9,
   "id": "41e45d50-c779-4885-8b78-8a291beb8bc3",
   "metadata": {},
   "outputs": [
    {
     "name": "stdout",
     "output_type": "stream",
     "text": [
      "📈 Step 5: Updated Budget\n",
      "Budget: ₹400000, Spent: ₹140000, Remaining: ₹260000\n"
     ]
    }
   ],
   "source": [
    "#Step 5: Update budget\n",
    "bl.update_budget(\"IT Ops\", 400000)\n",
    "print(\"📈 Step 5: Updated Budget\")\n",
    "print(bl.get_budget_status(\"IT Ops\"))"
   ]
  },
  {
   "cell_type": "code",
   "execution_count": 10,
   "id": "c6a3d3a6-c7e8-4809-b36e-57585474c531",
   "metadata": {},
   "outputs": [
    {
     "name": "stdout",
     "output_type": "stream",
     "text": [
      "🏢 Step 6: Departments\n",
      "['IT Ops']\n"
     ]
    }
   ],
   "source": [
    "# Step 6: List departments\n",
    "print(\"🏢 Step 6: Departments\")\n",
    "print(bl.list_departments())"
   ]
  },
  {
   "cell_type": "code",
   "execution_count": 11,
   "id": "bcf7046c-c9a7-43ce-b727-e356a125d74e",
   "metadata": {},
   "outputs": [
    {
     "name": "stdout",
     "output_type": "stream",
     "text": [
      "🧾 Step 7: Summary\n",
      "{'budget': 400000, 'expense_count': 4, 'total_expense': 140000}\n"
     ]
    }
   ],
   "source": [
    "# Step 7: Department summary\n",
    "print(\"🧾 Step 7: Summary\")\n",
    "pprint(bl.department_summary(\"IT Ops\"))\n"
   ]
  },
  {
   "cell_type": "code",
   "execution_count": 12,
   "id": "fdc6f493-1f2f-489d-a3ba-269c13e6e685",
   "metadata": {},
   "outputs": [
    {
     "name": "stdout",
     "output_type": "stream",
     "text": [
      "❌ Step 8: Removed one expense (index 0)\n",
      "[{'amount': 25000, 'category': 'Cloud', 'desc': 'Azure'},\n",
      " {'amount': 15000, 'category': 'Cloud', 'desc': 'github'},\n",
      " {'amount': 55000, 'category': 'Cloud', 'desc': 'bitbucket'}]\n"
     ]
    }
   ],
   "source": [
    "bl.remove_expense(\"IT Ops\", 0)\n",
    "print(\"❌ Step 8: Removed one expense (index 0)\")\n",
    "pprint(bl.departments[\"IT Ops\"][\"expenses\"])"
   ]
  },
  {
   "cell_type": "code",
   "execution_count": 13,
   "id": "4dd09898-1cd5-451b-8a19-674e8e608592",
   "metadata": {},
   "outputs": [
    {
     "name": "stdout",
     "output_type": "stream",
     "text": [
      "🧹 Step 9: Cleared Expenses\n",
      "✅ All expenses cleared.\n",
      "[]\n",
      "\n",
      "------------------------------------------------------------\n"
     ]
    }
   ],
   "source": [
    "# 9. Clear all expenses\n",
    "print(\"🧹 Step 9: Cleared Expenses\")\n",
    "if bl.clear_expenses(\"IT Ops\"):\n",
    "    print(\"✅ All expenses cleared.\")\n",
    "else:\n",
    "    print(\"⚠️ Department not found.\")\n",
    "pprint(bl.departments[\"IT Ops\"][\"expenses\"])\n",
    "print(\"\\n\" + \"-\"*60)"
   ]
  },
  {
   "cell_type": "code",
   "execution_count": 14,
   "id": "8d626d68-323b-4282-ba87-df1b05caf1c5",
   "metadata": {},
   "outputs": [
    {
     "name": "stdout",
     "output_type": "stream",
     "text": [
      "🗑️ Step 10: Department Deleted\n",
      "✅ 'IT Ops' department deleted.\n",
      "Current Departments: {}\n"
     ]
    }
   ],
   "source": [
    "# Step 10: Delete department\n",
    "deleted = bl.delete_department(\"IT Ops\")\n",
    "print(\"🗑️ Step 10: Department Deleted\")\n",
    "if deleted:\n",
    "    print(f\"✅ 'IT Ops' department deleted.\\nCurrent Departments: {bl.departments}\")\n",
    "else:\n",
    "    print(\"⚠️ Department not found or already deleted.\")\n"
   ]
  },
  {
   "cell_type": "code",
   "execution_count": 24,
   "id": "d4f94d01-5761-4540-bb53-56199c606914",
   "metadata": {},
   "outputs": [],
   "source": [
    "from budget_optimization import alert_notifier\n",
    "    "
   ]
  },
  {
   "cell_type": "code",
   "execution_count": 23,
   "id": "15a6afae-5a13-4d19-9781-baca704157c1",
   "metadata": {},
   "outputs": [
    {
     "ename": "SyntaxError",
     "evalue": "invalid syntax (451013170.py, line 1)",
     "output_type": "error",
     "traceback": [
      "\u001b[1;36m  Cell \u001b[1;32mIn[23], line 1\u001b[1;36m\u001b[0m\n\u001b[1;33m    import (\u001b[0m\n\u001b[1;37m           ^\u001b[0m\n\u001b[1;31mSyntaxError\u001b[0m\u001b[1;31m:\u001b[0m invalid syntax\n"
     ]
    }
   ],
   "source": [
    "import (\n",
    "    set_budget_limit_alert,\n",
    "    set_bill_reminder,\n",
    "    low_balance_alert,\n",
    "    set_custom_alert,\n",
    "    view_all_alerts,\n",
    "    delete_alert,\n",
    "    clear_all_alerts,\n",
    "    export_alerts_to_txt,\n",
    "    send_alerts_by_email,\n",
    "    snooze_alert\n",
    ")\n"
   ]
  },
  {
   "cell_type": "code",
   "execution_count": null,
   "id": "fe1517db-ebbc-4330-a034-d725953815b8",
   "metadata": {},
   "outputs": [],
   "source": []
  }
 ],
 "metadata": {
  "kernelspec": {
   "display_name": "Python 3 (ipykernel)",
   "language": "python",
   "name": "python3"
  },
  "language_info": {
   "codemirror_mode": {
    "name": "ipython",
    "version": 3
   },
   "file_extension": ".py",
   "mimetype": "text/x-python",
   "name": "python",
   "nbconvert_exporter": "python",
   "pygments_lexer": "ipython3",
   "version": "3.13.1"
  }
 },
 "nbformat": 4,
 "nbformat_minor": 5
}
